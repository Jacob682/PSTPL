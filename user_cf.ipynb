{
  "nbformat": 4,
  "nbformat_minor": 0,
  "metadata": {
    "colab": {
      "provenance": [],
      "authorship_tag": "ABX9TyPKGSJv7RuWNmWHqDWm2Wpf",
      "include_colab_link": true
    },
    "kernelspec": {
      "name": "python3",
      "display_name": "Python 3"
    },
    "language_info": {
      "name": "python"
    }
  },
  "cells": [
    {
      "cell_type": "markdown",
      "metadata": {
        "id": "view-in-github",
        "colab_type": "text"
      },
      "source": [
        "<a href=\"https://colab.research.google.com/github/Jacob682/PSTPL/blob/main/user_cf.ipynb\" target=\"_parent\"><img src=\"https://colab.research.google.com/assets/colab-badge.svg\" alt=\"Open In Colab\"/></a>"
      ]
    },
    {
      "cell_type": "code",
      "execution_count": 4,
      "metadata": {
        "id": "QLJniK2Uyjbh"
      },
      "outputs": [],
      "source": [
        "import numpy as np\n",
        "import torch\n",
        "import torch.nn.functional as F"
      ]
    },
    {
      "cell_type": "code",
      "source": [
        "ratings = torch.tensor([\n",
        "    [5, 3, 0, 0, 2],\n",
        "    [4, 0, 0, 2, 3],\n",
        "    [0, 0, 3, 4, 0],\n",
        "    [2, 3, 0, 5, 0],\n",
        "    [1, 0, 0, 4, 5]],\n",
        "    dtype = torch.float32\n",
        ")"
      ],
      "metadata": {
        "id": "6N7LQyIA4-db"
      },
      "execution_count": 6,
      "outputs": []
    },
    {
      "cell_type": "code",
      "source": [
        "# 计算用户间相似度\n",
        "matrix1 = ratings.unsqueeze(1) #(5,1,5) 广播后，一个用户的评分，复制5次，和matrix2 5个不同的用户计算\n",
        "matrix2 = ratings.unsqueeze(0) #(1,5,5)\n",
        "user_similarity = F.cosine_similarity(matrix1,matrix2,dim=2)\n",
        "user_similarity.fill_diagonal_(0)\n",
        "user_similarity"
      ],
      "metadata": {
        "colab": {
          "base_uri": "https://localhost:8080/"
        },
        "id": "YH0Uc0L35bkK",
        "outputId": "a9d86227-4c11-4610-fdc6-0549e4ea4f30"
      },
      "execution_count": 20,
      "outputs": [
        {
          "output_type": "execute_result",
          "data": {
            "text/plain": [
              "tensor([[1.0000, 0.7832, 0.0000, 0.5000, 0.3755],\n",
              "        [0.7832, 1.0000, 0.2971, 0.5422, 0.7736],\n",
              "        [0.0000, 0.2971, 1.0000, 0.6489, 0.4938],\n",
              "        [0.5000, 0.5422, 0.6489, 1.0000, 0.5507],\n",
              "        [0.3755, 0.7736, 0.4938, 0.5507, 1.0000]])"
            ]
          },
          "metadata": {},
          "execution_count": 20
        }
      ]
    },
    {
      "cell_type": "code",
      "source": [
        "ratings.unsqueeze(1)"
      ],
      "metadata": {
        "colab": {
          "base_uri": "https://localhost:8080/"
        },
        "collapsed": true,
        "id": "fzZBwQ1W54_6",
        "outputId": "3b133afe-6f17-4c6b-ab7e-d282128a5396"
      },
      "execution_count": 21,
      "outputs": [
        {
          "output_type": "execute_result",
          "data": {
            "text/plain": [
              "tensor([[[5., 3., 0., 0., 2.]],\n",
              "\n",
              "        [[4., 0., 0., 2., 3.]],\n",
              "\n",
              "        [[0., 0., 3., 4., 0.]],\n",
              "\n",
              "        [[2., 3., 0., 5., 0.]],\n",
              "\n",
              "        [[1., 0., 0., 4., 5.]]])"
            ]
          },
          "metadata": {},
          "execution_count": 21
        }
      ]
    },
    {
      "cell_type": "code",
      "source": [
        "matrix2"
      ],
      "metadata": {
        "colab": {
          "base_uri": "https://localhost:8080/"
        },
        "collapsed": true,
        "id": "wG8YJF2p6iTX",
        "outputId": "a65f7b81-6c18-446a-a8f3-5afd356329d8"
      },
      "execution_count": 22,
      "outputs": [
        {
          "output_type": "execute_result",
          "data": {
            "text/plain": [
              "tensor([[[5., 3., 0., 0., 2.],\n",
              "         [4., 0., 0., 2., 3.],\n",
              "         [0., 0., 3., 4., 0.],\n",
              "         [2., 3., 0., 5., 0.],\n",
              "         [1., 0., 0., 4., 5.]]])"
            ]
          },
          "metadata": {},
          "execution_count": 22
        }
      ]
    },
    {
      "cell_type": "code",
      "source": [
        "# 用相似度加权预测评分\n",
        "def predict(user_id, item_id):\n",
        "  sim_scores = user_similarity[user_id]\n",
        "  user_rating = ratings[:,item_id]\n",
        "  # 考虑已评分用户\n",
        "  non_zero_ratings = user_rating != 0 # 取bool\n",
        "  relevent_user = sim_scores[non_zero_ratings]\n",
        "  relevent_rating = user_rating[non_zero_ratings]\n",
        "\n",
        "  numerator = torch.dot(relevent_user,relevent_rating)\n",
        "  denominator = relevent_user.sum()\n",
        "  if denominator == 0:\n",
        "    return 0\n",
        "  else:\n",
        "    return numerator/denominator"
      ],
      "metadata": {
        "id": "PKjmPhGa9GCb"
      },
      "execution_count": 23,
      "outputs": []
    },
    {
      "cell_type": "code",
      "source": [
        "predicted_rating = predict(0,1)\n",
        "predicted_rating"
      ],
      "metadata": {
        "colab": {
          "base_uri": "https://localhost:8080/"
        },
        "id": "2Y1cxiG_-oGb",
        "outputId": "f87886aa-eca2-45ca-922d-102309f4ad7d"
      },
      "execution_count": 24,
      "outputs": [
        {
          "output_type": "execute_result",
          "data": {
            "text/plain": [
              "tensor(3.)"
            ]
          },
          "metadata": {},
          "execution_count": 24
        }
      ]
    }
  ]
}